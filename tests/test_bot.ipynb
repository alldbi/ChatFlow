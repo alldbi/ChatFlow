{
 "cells": [
  {
   "cell_type": "code",
   "execution_count": 1,
   "metadata": {},
   "outputs": [
    {
     "name": "stdout",
     "output_type": "stream",
     "text": [
      "/mnt/d/work/DPNA/ChatbotFlow\n"
     ]
    },
    {
     "name": "stderr",
     "output_type": "stream",
     "text": [
      "/mnt/d/work/DPNA/ChatbotFlow/env/lib/python3.10/site-packages/langchain_core/_api/beta_decorator.py:86: LangChainBetaWarning: The function `with_structured_output` is in beta. It is actively being worked on, so the API may change.\n",
      "  warn_beta(\n"
     ]
    }
   ],
   "source": [
    "%cd ..\n",
    "from dotenv import load_dotenv\n",
    "\n",
    "from bot.models.node import JsonOutputNode, StrOutputNode\n",
    "load_dotenv()\n",
    "\n",
    "model_name = 'gpt-3.5-turbo-0125'\n",
    "\n",
    "prompt_template = \"\"\"You are a perfect calculator that can calculate sum and multiplication of every input.\n",
    "read the user question and calculate the sum and multiply of the input numbers in json format.\n",
    "\n",
    "<< USER QUESTION >>\n",
    "{question}\n",
    "\"\"\"\n",
    "input_variables = [\"question\"]\n",
    "output_variables = {'sum': float, 'multiply': float}\n",
    "node = JsonOutputNode(model_name=model_name,\n",
    "            prompt_template=prompt_template,\n",
    "            input_variables=input_variables,\n",
    "            output_variables=output_variables,\n",
    "            verbose=True)"
   ]
  },
  {
   "cell_type": "code",
   "execution_count": 2,
   "metadata": {},
   "outputs": [
    {
     "data": {
      "text/plain": [
       "{'raw': AIMessage(content='{\\n  \"input_numbers\": [1, 2, 3],\\n  \"sum\": 6,\\n  \"multiply\": 6\\n}', response_metadata={'token_usage': {'completion_tokens': 30, 'prompt_tokens': 61, 'total_tokens': 91}, 'model_name': 'gpt-3.5-turbo-0125', 'system_fingerprint': 'fp_3bc1b5746c', 'finish_reason': 'stop', 'logprobs': None}),\n",
       " 'parsed': {'input_numbers': [1, 2, 3], 'sum': 6, 'multiply': 6},\n",
       " 'parsing_error': None}"
      ]
     },
     "execution_count": 2,
     "metadata": {},
     "output_type": "execute_result"
    }
   ],
   "source": [
    "node.run({'question':\"what is the multiply and sum of 1, 2 and 3?\"})"
   ]
  },
  {
   "cell_type": "code",
   "execution_count": 2,
   "metadata": {},
   "outputs": [],
   "source": [
    "prompt_template = \"\"\"You are in a library AI assistant that can provide information about books and authors to the users.\n",
    "answer the following question as good as possible.\n",
    "\n",
    "<< USER QUESTION >>\n",
    "{question}\n",
    "\n",
    "<< RESPONSE >>\n",
    "\"\"\"\n",
    "input_variables = [\"question\"]\n",
    "output_variable = 'reply'\n",
    "node = StrOutputNode(model_name=model_name,\n",
    "            prompt_template=prompt_template,\n",
    "            input_variables=input_variables,\n",
    "            output_variable=output_variable,\n",
    "            verbose=True)"
   ]
  },
  {
   "cell_type": "code",
   "execution_count": 3,
   "metadata": {},
   "outputs": [
    {
     "data": {
      "text/plain": [
       "{'reply': AIMessage(content='<< AI RESPONSE >>\\nTo get familiar with Swedish culture, here are some books that you might find interesting:\\n\\n1. \"A Man Called Ove\" by Fredrik Backman - This heartwarming novel follows the story of a grumpy yet lovable old man named Ove and provides insights into Swedish values and community life.\\n\\n2. \"The Girl with the Dragon Tattoo\" by Stieg Larsson - This gripping thriller introduces readers to Swedish society and politics, while also showcasing the country\\'s landscapes and urban settings.\\n\\n3. \"My Struggle\" by Karl Ove Knausgård - This autobiographical series delves into the author\\'s personal experiences growing up in Norway and Sweden, offering a unique perspective on Scandinavian culture.\\n\\n4. \"Popular Music from Vittula\" by Mikael Niemi - This coming-of-age novel set in northern Sweden explores themes of friendship, family, and the impact of music on identity.\\n\\n5. \"The Hundred-Year-Old Man Who Climbed Out of the Window and Disappeared\" by Jonas Jonasson - This humorous and quirky novel follows the adventures of a centenarian as he embarks on a journey through Swedish history and culture.\\n\\nThese books offer a diverse range of perspectives on Swedish culture and society, and can provide valuable insights for readers looking to learn more about the country.', response_metadata={'token_usage': {'completion_tokens': 271, 'prompt_tokens': 53, 'total_tokens': 324}, 'model_name': 'gpt-3.5-turbo-0125', 'system_fingerprint': 'fp_3bc1b5746c', 'finish_reason': 'stop', 'logprobs': None})}"
      ]
     },
     "execution_count": 3,
     "metadata": {},
     "output_type": "execute_result"
    }
   ],
   "source": [
    "node.run({'question':\"what are the best books to get familiar with swedish culture?\"})"
   ]
  },
  {
   "cell_type": "code",
   "execution_count": 5,
   "metadata": {},
   "outputs": [
    {
     "name": "stdout",
     "output_type": "stream",
     "text": [
      "/mnt/d/work/DPNA/ChatbotFlow\n"
     ]
    }
   ],
   "source": [
    "!pwd"
   ]
  }
 ],
 "metadata": {
  "kernelspec": {
   "display_name": "env",
   "language": "python",
   "name": "python3"
  },
  "language_info": {
   "codemirror_mode": {
    "name": "ipython",
    "version": 3
   },
   "file_extension": ".py",
   "mimetype": "text/x-python",
   "name": "python",
   "nbconvert_exporter": "python",
   "pygments_lexer": "ipython3",
   "version": "3.10.12"
  }
 },
 "nbformat": 4,
 "nbformat_minor": 2
}
