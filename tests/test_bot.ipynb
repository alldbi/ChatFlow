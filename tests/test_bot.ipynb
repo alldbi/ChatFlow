{
 "cells": [
  {
   "cell_type": "code",
   "execution_count": 1,
   "metadata": {},
   "outputs": [
    {
     "name": "stdout",
     "output_type": "stream",
     "text": [
      "/mnt/d/work/DPNA/ChatbotFlow\n"
     ]
    },
    {
     "data": {
      "text/plain": [
       "True"
      ]
     },
     "execution_count": 1,
     "metadata": {},
     "output_type": "execute_result"
    }
   ],
   "source": [
    "%cd ..\n",
    "from dotenv import load_dotenv\n",
    "\n",
    "load_dotenv()\n",
    "\n",
    "model_name = 'gpt-4-turbo-preview'"
   ]
  },
  {
   "cell_type": "markdown",
   "metadata": {},
   "source": [
    "## Test Chatbot: Customer Service"
   ]
  },
  {
   "cell_type": "code",
   "execution_count": 20,
   "metadata": {},
   "outputs": [],
   "source": [
    "marketing_policy = \"\"\"Advertisement Related Questions and Answers\n",
    "\n",
    "Welcome to the Pinnacle Auto Group Customer Service Bot! If you have any questions related to our advertisements, promotions, or special offers, you've come to the right place. Below are some common advertisement-related questions and their answers to assist you:\n",
    "\n",
    "Q: Where can I find information about your current promotions and special offers?\n",
    "A: You can find information about our current promotions and special offers on our website's homepage and dedicated promotions page. We also regularly update our social media channels with the latest deals and incentives, so be sure to follow us on [Facebook, Twitter, Instagram, etc.] for the most up-to-date information.\n",
    "\n",
    "Q: Do you offer any discounts or incentives for first-time buyers or loyal customers?\n",
    "A: Yes, we occasionally offer discounts, incentives, and special deals for first-time buyers, as well as for our loyal customers. These promotions may vary depending on current market conditions and dealership policies. For the latest information on available discounts and incentives, please contact our sales team or visit our website.\n",
    "\n",
    "Q: Can I request more information about a specific vehicle featured in one of your advertisements?\n",
    "A: Absolutely! If you're interested in a vehicle featured in one of our advertisements and would like more information, simply contact our sales team. They'll be happy to provide you with additional details, schedule a test drive, and assist you with any questions you may have about the vehicle.\n",
    "\n",
    "Q: How can I stay updated on your latest advertisements and promotions?\n",
    "A: To stay updated on our latest advertisements and promotions, we recommend subscribing to our email newsletter and following us on social media. You can also check our website regularly for updates and sign up to receive notifications about new deals and offers.\n",
    "\n",
    "Q: Do you have any referral programs or incentives for customers who refer friends and family?\n",
    "A: Yes, we value referrals from satisfied customers and may offer referral programs or incentives from time to time. If you refer a friend or family member who purchases a vehicle from us, you may be eligible for special rewards or discounts. For more information about our referral programs, please contact our sales team.\n",
    "\n",
    "Q: Can I request a quote or pricing information for a specific vehicle advertised on your website or in other promotional materials?\n",
    "A: Of course! If you're interested in a vehicle advertised on our website or in other promotional materials and would like pricing information or a quote, please contact our sales team. They'll be happy to provide you with a personalized quote and answer any questions you may have about the vehicle.\n",
    "\"\"\""
   ]
  },
  {
   "cell_type": "code",
   "execution_count": 21,
   "metadata": {},
   "outputs": [],
   "source": [
    "technical_policies = \"\"\"Technical Questions and Answers\n",
    "\n",
    "Welcome to the Pinnacle Auto Group Customer Service Bot! We're here to assist you with any technical questions you may have regarding our website, vehicles, or online services. Below are some common technical questions and their answers to help guide you:\n",
    "\n",
    "Q: How do I search for a specific car model on your website?\n",
    "A: To search for a specific car model, simply use the search bar located at the top of our website. Type in the make, model, or any other relevant keywords, and press enter. You can also use the filters on the search results page to narrow down your options by price, year, mileage, and more.\n",
    "\n",
    "Q: I'm having trouble accessing my account. What should I do?\n",
    "A: If you're having trouble accessing your account, first ensure that you're using the correct username and password. If you've forgotten your password, you can click on the \"Forgot Password\" link on the login page to reset it. If you continue to experience issues, please contact our customer support team for further assistance.\n",
    "\n",
    "Q: How can I schedule a test drive for a vehicle I'm interested in?\n",
    "A: To schedule a test drive, simply navigate to the vehicle listing page and click on the \"Schedule Test Drive\" button. Fill out the form with your contact information and preferred date and time for the test drive. Our sales team will then reach out to confirm the appointment and assist you further.\n",
    "\n",
    "Q: Do you offer financing options for purchasing a car?\n",
    "A: Yes, we offer flexible financing options to help make purchasing a car more affordable. You can apply for financing directly through our website by filling out the online finance application form. Our finance experts will then review your application and work with our network of lenders to secure competitive rates and terms for you.\n",
    "\n",
    "Q: How can I get more information about a specific vehicle in your inventory?\n",
    "A: If you'd like more information about a specific vehicle in our inventory, simply click on the listing to view detailed photos, specifications, and features. If you have additional questions or would like to request a vehicle history report, you can contact our sales team through the website or by phone for further assistance.\n",
    "\n",
    "Q: Is your website accessible for users with disabilities?\n",
    "A: Yes, our website is designed to be accessible to all users, including those with disabilities. We adhere to WCAG (Web Content Accessibility Guidelines) standards to ensure that our website is perceivable, operable, and understandable for all individuals. If you encounter any accessibility issues, please let us know, and we will address them promptly\n",
    "\"\"\""
   ]
  },
  {
   "cell_type": "code",
   "execution_count": 22,
   "metadata": {},
   "outputs": [],
   "source": [
    "sales_policies = \"\"\"Sales Related Questions and Answers\n",
    "\n",
    "Welcome to the Pinnacle Auto Group Customer Service Bot! If you have any questions related to sales, purchasing a vehicle, or our dealership's sales policies, you're in the right place. Below are some common sales-related questions and their answers to assist you:\n",
    "\n",
    "Q: What is the price of [specific vehicle model] in your inventory?\n",
    "A: Our inventory is regularly updated with new arrivals and changes in pricing. To get the latest pricing information for a specific vehicle, please visit our website and navigate to the listing for that vehicle. If you have any further questions or need assistance, our sales team is available to help.\n",
    "\n",
    "Q: Do you offer financing options for purchasing a car?\n",
    "A: Yes, we offer financing options to help make purchasing a car more affordable. Our finance team works with a network of reputable lenders to secure competitive rates and terms for our customers. To learn more about our financing options and to apply online, please visit our website or contact our sales team.\n",
    "\n",
    "Q: Can I trade in my current vehicle when purchasing a car from your dealership?\n",
    "A: Yes, we offer trade-in services for customers looking to sell or trade in their current vehicle. Our sales team will assess the value of your trade-in vehicle and provide you with a fair and competitive offer. To get started, please contact us or visit our dealership for a vehicle appraisal.\n",
    "\n",
    "Q: How can I schedule a test drive for a vehicle I'm interested in?\n",
    "A: Scheduling a test drive is easy! Simply visit our website and navigate to the listing for the vehicle you're interested in. You'll find an option to schedule a test drive directly on the listing page. Fill out the form with your contact information and preferred date and time, and our sales team will confirm the appointment with you.\n",
    "\n",
    "Q: Do you offer any warranties or guarantees for the vehicles you sell?\n",
    "A: Yes, we stand behind the quality of our vehicles and offer warranties and guarantees for added peace of mind. The specific warranty coverage may vary depending on the vehicle and its age, mileage, and condition. Our sales team can provide you with more information about available warranty options for the vehicle you're interested in.\n",
    "\n",
    "Q: Can I negotiate the price of a vehicle listed on your website?\n",
    "A: Yes, we welcome negotiation and strive to offer fair and competitive pricing on all of our vehicles. If you're interested in a vehicle but have concerns about the price, please don't hesitate to contact our sales team. They'll be happy to work with you to find a mutually agreeable deal.\"\"\""
   ]
  },
  {
   "cell_type": "code",
   "execution_count": 23,
   "metadata": {},
   "outputs": [],
   "source": [
    "decision_prompt = \"\"\"Categorize the user message into one of the following categories:\n",
    "1. technical\n",
    "2. sales\n",
    "3. advertisement\n",
    "4. chitchat\n",
    "\n",
    "<< USER MESSAGE >>\n",
    "{user_message}\n",
    "\n",
    "<< RULES >>\n",
    "1- Put your answer in json format.\n",
    "1- The output is a json object that the value of the input message category is TRUE and other output keys are FALSE\n",
    "\"\"\""
   ]
  },
  {
   "cell_type": "code",
   "execution_count": 24,
   "metadata": {},
   "outputs": [],
   "source": [
    "from bot.models.condition import Condition, Operator\n",
    "from bot.models.node import NodeFactory\n",
    "\n",
    "\n",
    "start_node = NodeFactory.create_node(model_name=model_name, prompt_template=decision_prompt, \n",
    "                                     input_variables=['user_message'], \n",
    "                                     output_variables={'technical':bool, \n",
    "                                                       'sales':bool, \n",
    "                                                       'advertisement':bool,\n",
    "                                                       'chitchat': bool},\n",
    "                                                       return_inputs=True)\n",
    "# TODO set next nodes after"
   ]
  },
  {
   "cell_type": "code",
   "execution_count": 26,
   "metadata": {},
   "outputs": [],
   "source": [
    "advertisement_prompt = f\"\"\"You are a customer service chatbot. Answer the questions based on the provided policies.\n",
    "\n",
    "<< ADVERTISEMENT QUESTIONS >>\n",
    "{marketing_policy}\n",
    "\n",
    "\n",
    "<< USER MESSAGE >>\n",
    "\"\"\" + \"\"\"{user_message}\n",
    "BOT RESPONSE:\"\"\""
   ]
  },
  {
   "cell_type": "code",
   "execution_count": 27,
   "metadata": {},
   "outputs": [],
   "source": [
    "adv_node = NodeFactory.create_node(model_name=model_name, prompt_template=advertisement_prompt, \n",
    "                                   input_variables=['user_message'],\n",
    "                                   output_variables='response',\n",
    "                                   is_output=True)"
   ]
  },
  {
   "cell_type": "code",
   "execution_count": 28,
   "metadata": {},
   "outputs": [],
   "source": [
    "technical_prompt = f\"\"\"You are a customer service chatbot. Answer the questions based on the provided policies.\n",
    "\n",
    "<< TECHNICAL QUESTIONS >>\n",
    "{technical_policies}\n",
    "\n",
    "\n",
    "<< USER MESSAGE >>\n",
    "\"\"\" + \"\"\"{user_message}\n",
    "BOT RESPONSE:\"\"\""
   ]
  },
  {
   "cell_type": "code",
   "execution_count": 29,
   "metadata": {},
   "outputs": [],
   "source": [
    "tech_node = NodeFactory.create_node(model_name=model_name, prompt_template=technical_prompt, \n",
    "                                   input_variables=['user_message'],\n",
    "                                   output_variables='response',\n",
    "                                   is_output=True)"
   ]
  },
  {
   "cell_type": "code",
   "execution_count": 30,
   "metadata": {},
   "outputs": [],
   "source": [
    "sales_prompt = f\"\"\"You are a customer service chatbot. Answer the questions based on the provided policies.\n",
    "\n",
    "<< SALES QUESTIONS >>\n",
    "{sales_policies}\n",
    "\n",
    "\n",
    "<< USER MESSAGE >>\n",
    "\"\"\" + \"\"\"{user_message}\n",
    "BOT RESPONSE:\"\"\""
   ]
  },
  {
   "cell_type": "code",
   "execution_count": 31,
   "metadata": {},
   "outputs": [],
   "source": [
    "sales_node = NodeFactory.create_node(model_name=model_name, prompt_template=sales_prompt, \n",
    "                                   input_variables=['user_message'],\n",
    "                                   output_variables='response',\n",
    "                                   is_output=True)"
   ]
  },
  {
   "cell_type": "code",
   "execution_count": 33,
   "metadata": {},
   "outputs": [],
   "source": [
    "chitchat_prompt = \"\"\"You are a warm and welcoming customer service chatbot of Pinnacle Auto Group a dealership. \n",
    "chat with the client in a chitchat style and ask them if they have questions from customer service.\n",
    "\n",
    "<< USER MESSAGE >>\n",
    "{user_message}\n",
    "BOT RESPONSE:\"\"\""
   ]
  },
  {
   "cell_type": "code",
   "execution_count": 34,
   "metadata": {},
   "outputs": [],
   "source": [
    "chitchat_node = NodeFactory.create_node(model_name=model_name, prompt_template=chitchat_prompt, \n",
    "                                   input_variables=['user_message'],\n",
    "                                   output_variables='response',\n",
    "                                   is_output=True)"
   ]
  },
  {
   "cell_type": "code",
   "execution_count": 35,
   "metadata": {},
   "outputs": [],
   "source": [
    "start_node.set_next_item({sales_node: Condition('sales', True, Operator.EQUALS),\n",
    "                          adv_node: Condition('advertisement', True, Operator.EQUALS),\n",
    "                          tech_node: Condition('technical', True, Operator.EQUALS),\n",
    "                          chitchat_node: Condition('chitchat', True, Operator.EQUALS)})"
   ]
  },
  {
   "cell_type": "code",
   "execution_count": 40,
   "metadata": {},
   "outputs": [],
   "source": [
    "from bot.models.flow import Flow\n",
    "\n",
    "customer_service_flow = Flow(start_node=start_node)"
   ]
  },
  {
   "cell_type": "code",
   "execution_count": 41,
   "metadata": {},
   "outputs": [
    {
     "name": "stdout",
     "output_type": "stream",
     "text": [
      "{'technical': False, 'sales': False, 'advertisement': False, 'chitchat': True, 'user_message': 'Hey, How are you?'}\n",
      "{'technical': False, 'sales': False, 'advertisement': False, 'chitchat': True, 'user_message': 'Hey, How are you?'}\n",
      "{'technical': False, 'sales': False, 'advertisement': False, 'chitchat': True, 'user_message': 'Hey, How are you?'}\n",
      "{'technical': False, 'sales': False, 'advertisement': False, 'chitchat': True, 'user_message': 'Hey, How are you?'}\n",
      "{'response': \"Hey there! 😊 I'm doing great, thanks for asking! How about you? How's your day going? And oh, by the way, if you have any questions or need assistance from our customer service, feel free to ask. I'm here to help!\"}\n"
     ]
    }
   ],
   "source": [
    "inp = {'user_message': 'Hey, How are you?'}\n",
    "print(customer_service_flow.run(inp))"
   ]
  },
  {
   "cell_type": "code",
   "execution_count": 42,
   "metadata": {},
   "outputs": [
    {
     "name": "stdout",
     "output_type": "stream",
     "text": [
      "{'technical': False, 'sales': True, 'advertisement': False, 'chitchat': False, 'user_message': 'What is your return policy?'}\n",
      "{'response': 'Our dealership does not have a specific return policy mentioned in the provided information. For details regarding returns or to discuss any concerns you may have about a vehicle purchase, please contact our sales team directly. They will be able to provide you with the most accurate and up-to-date information regarding our policies on returns and how we can assist you further.'}\n"
     ]
    }
   ],
   "source": [
    "inp = {'user_message': 'What is your return policy?'}\n",
    "print(customer_service_flow.run(inp))"
   ]
  },
  {
   "cell_type": "code",
   "execution_count": 43,
   "metadata": {},
   "outputs": [
    {
     "name": "stdout",
     "output_type": "stream",
     "text": [
      "{'technical': False, 'sales': True, 'advertisement': False, 'chitchat': False, 'user_message': 'Can I negotiate the price of a vehicle listed on your website?'}\n",
      "{'response': \"Yes, we welcome negotiation and strive to offer fair and competitive pricing on all of our vehicles. If you're interested in a vehicle but have concerns about the price, please don't hesitate to contact our sales team. They'll be happy to work with you to find a mutually agreeable deal.\"}\n"
     ]
    }
   ],
   "source": [
    "inp = {'user_message': 'Can I negotiate the price of a vehicle listed on your website?'}\n",
    "print(customer_service_flow.run(inp))"
   ]
  }
 ],
 "metadata": {
  "kernelspec": {
   "display_name": "env",
   "language": "python",
   "name": "python3"
  },
  "language_info": {
   "codemirror_mode": {
    "name": "ipython",
    "version": 3
   },
   "file_extension": ".py",
   "mimetype": "text/x-python",
   "name": "python",
   "nbconvert_exporter": "python",
   "pygments_lexer": "ipython3",
   "version": "3.10.12"
  }
 },
 "nbformat": 4,
 "nbformat_minor": 2
}
