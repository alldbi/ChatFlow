{
 "cells": [
  {
   "cell_type": "code",
   "execution_count": 1,
   "metadata": {},
   "outputs": [
    {
     "name": "stdout",
     "output_type": "stream",
     "text": [
      "/mnt/d/work/DPNA/ChatbotFlow\n"
     ]
    }
   ],
   "source": [
    "%cd ..\n",
    "from dotenv import load_dotenv\n",
    "\n",
    "load_dotenv()\n",
    "\n",
    "model_name = 'gpt-4-turbo-preview'"
   ]
  },
  {
   "cell_type": "markdown",
   "metadata": {},
   "source": [
    "## Test Chatbot: Customer Service"
   ]
  },
  {
   "cell_type": "code",
   "execution_count": 20,
   "metadata": {},
   "outputs": [],
   "source": [
    "marketing_policy = \"\"\"Advertisement Related Questions and Answers\n",
    "\n",
    "Welcome to the Pinnacle Auto Group Customer Service Bot! If you have any questions related to our advertisements, promotions, or special offers, you've come to the right place. Below are some common advertisement-related questions and their answers to assist you:\n",
    "\n",
    "Q: Where can I find information about your current promotions and special offers?\n",
    "A: You can find information about our current promotions and special offers on our website's homepage and dedicated promotions page. We also regularly update our social media channels with the latest deals and incentives, so be sure to follow us on [Facebook, Twitter, Instagram, etc.] for the most up-to-date information.\n",
    "\n",
    "Q: Do you offer any discounts or incentives for first-time buyers or loyal customers?\n",
    "A: Yes, we occasionally offer discounts, incentives, and special deals for first-time buyers, as well as for our loyal customers. These promotions may vary depending on current market conditions and dealership policies. For the latest information on available discounts and incentives, please contact our sales team or visit our website.\n",
    "\n",
    "Q: Can I request more information about a specific vehicle featured in one of your advertisements?\n",
    "A: Absolutely! If you're interested in a vehicle featured in one of our advertisements and would like more information, simply contact our sales team. They'll be happy to provide you with additional details, schedule a test drive, and assist you with any questions you may have about the vehicle.\n",
    "\n",
    "Q: How can I stay updated on your latest advertisements and promotions?\n",
    "A: To stay updated on our latest advertisements and promotions, we recommend subscribing to our email newsletter and following us on social media. You can also check our website regularly for updates and sign up to receive notifications about new deals and offers.\n",
    "\n",
    "Q: Do you have any referral programs or incentives for customers who refer friends and family?\n",
    "A: Yes, we value referrals from satisfied customers and may offer referral programs or incentives from time to time. If you refer a friend or family member who purchases a vehicle from us, you may be eligible for special rewards or discounts. For more information about our referral programs, please contact our sales team.\n",
    "\n",
    "Q: Can I request a quote or pricing information for a specific vehicle advertised on your website or in other promotional materials?\n",
    "A: Of course! If you're interested in a vehicle advertised on our website or in other promotional materials and would like pricing information or a quote, please contact our sales team. They'll be happy to provide you with a personalized quote and answer any questions you may have about the vehicle.\n",
    "\"\"\""
   ]
  },
  {
   "cell_type": "code",
   "execution_count": 21,
   "metadata": {},
   "outputs": [],
   "source": [
    "technical_policies = \"\"\"Technical Questions and Answers\n",
    "\n",
    "Welcome to the Pinnacle Auto Group Customer Service Bot! We're here to assist you with any technical questions you may have regarding our website, vehicles, or online services. Below are some common technical questions and their answers to help guide you:\n",
    "\n",
    "Q: How do I search for a specific car model on your website?\n",
    "A: To search for a specific car model, simply use the search bar located at the top of our website. Type in the make, model, or any other relevant keywords, and press enter. You can also use the filters on the search results page to narrow down your options by price, year, mileage, and more.\n",
    "\n",
    "Q: I'm having trouble accessing my account. What should I do?\n",
    "A: If you're having trouble accessing your account, first ensure that you're using the correct username and password. If you've forgotten your password, you can click on the \"Forgot Password\" link on the login page to reset it. If you continue to experience issues, please contact our customer support team for further assistance.\n",
    "\n",
    "Q: How can I schedule a test drive for a vehicle I'm interested in?\n",
    "A: To schedule a test drive, simply navigate to the vehicle listing page and click on the \"Schedule Test Drive\" button. Fill out the form with your contact information and preferred date and time for the test drive. Our sales team will then reach out to confirm the appointment and assist you further.\n",
    "\n",
    "Q: Do you offer financing options for purchasing a car?\n",
    "A: Yes, we offer flexible financing options to help make purchasing a car more affordable. You can apply for financing directly through our website by filling out the online finance application form. Our finance experts will then review your application and work with our network of lenders to secure competitive rates and terms for you.\n",
    "\n",
    "Q: How can I get more information about a specific vehicle in your inventory?\n",
    "A: If you'd like more information about a specific vehicle in our inventory, simply click on the listing to view detailed photos, specifications, and features. If you have additional questions or would like to request a vehicle history report, you can contact our sales team through the website or by phone for further assistance.\n",
    "\n",
    "Q: Is your website accessible for users with disabilities?\n",
    "A: Yes, our website is designed to be accessible to all users, including those with disabilities. We adhere to WCAG (Web Content Accessibility Guidelines) standards to ensure that our website is perceivable, operable, and understandable for all individuals. If you encounter any accessibility issues, please let us know, and we will address them promptly\n",
    "\"\"\""
   ]
  },
  {
   "cell_type": "code",
   "execution_count": 22,
   "metadata": {},
   "outputs": [],
   "source": [
    "sales_policies = \"\"\"Sales Related Questions and Answers\n",
    "\n",
    "Welcome to the Pinnacle Auto Group Customer Service Bot! If you have any questions related to sales, purchasing a vehicle, or our dealership's sales policies, you're in the right place. Below are some common sales-related questions and their answers to assist you:\n",
    "\n",
    "Q: What is the price of [specific vehicle model] in your inventory?\n",
    "A: Our inventory is regularly updated with new arrivals and changes in pricing. To get the latest pricing information for a specific vehicle, please visit our website and navigate to the listing for that vehicle. If you have any further questions or need assistance, our sales team is available to help.\n",
    "\n",
    "Q: Do you offer financing options for purchasing a car?\n",
    "A: Yes, we offer financing options to help make purchasing a car more affordable. Our finance team works with a network of reputable lenders to secure competitive rates and terms for our customers. To learn more about our financing options and to apply online, please visit our website or contact our sales team.\n",
    "\n",
    "Q: Can I trade in my current vehicle when purchasing a car from your dealership?\n",
    "A: Yes, we offer trade-in services for customers looking to sell or trade in their current vehicle. Our sales team will assess the value of your trade-in vehicle and provide you with a fair and competitive offer. To get started, please contact us or visit our dealership for a vehicle appraisal.\n",
    "\n",
    "Q: How can I schedule a test drive for a vehicle I'm interested in?\n",
    "A: Scheduling a test drive is easy! Simply visit our website and navigate to the listing for the vehicle you're interested in. You'll find an option to schedule a test drive directly on the listing page. Fill out the form with your contact information and preferred date and time, and our sales team will confirm the appointment with you.\n",
    "\n",
    "Q: Do you offer any warranties or guarantees for the vehicles you sell?\n",
    "A: Yes, we stand behind the quality of our vehicles and offer warranties and guarantees for added peace of mind. The specific warranty coverage may vary depending on the vehicle and its age, mileage, and condition. Our sales team can provide you with more information about available warranty options for the vehicle you're interested in.\n",
    "\n",
    "Q: Can I negotiate the price of a vehicle listed on your website?\n",
    "A: Yes, we welcome negotiation and strive to offer fair and competitive pricing on all of our vehicles. If you're interested in a vehicle but have concerns about the price, please don't hesitate to contact our sales team. They'll be happy to work with you to find a mutually agreeable deal.\"\"\""
   ]
  },
  {
   "cell_type": "code",
   "execution_count": 23,
   "metadata": {},
   "outputs": [],
   "source": [
    "decision_prompt = \"\"\"Categorize the user message into one of the following categories:\n",
    "1. technical\n",
    "2. sales\n",
    "3. advertisement\n",
    "4. chitchat\n",
    "\n",
    "<< USER MESSAGE >>\n",
    "{user_message}\n",
    "\n",
    "<< RULES >>\n",
    "1- Put your answer in json format.\n",
    "1- The output is a json object that the value of the input message category is TRUE and other output keys are FALSE\n",
    "\"\"\""
   ]
  },
  {
   "cell_type": "code",
   "execution_count": 24,
   "metadata": {},
   "outputs": [],
   "source": [
    "from bot.models.condition import Condition, Operator\n",
    "from bot.models.node import NodeFactory\n",
    "\n",
    "\n",
    "start_node = NodeFactory.create_node(model_name=model_name, prompt_template=decision_prompt, \n",
    "                                     input_variables=['user_message'], \n",
    "                                     output_variables={'technical':bool, \n",
    "                                                       'sales':bool, \n",
    "                                                       'advertisement':bool,\n",
    "                                                       'chitchat': bool},\n",
    "                                                       return_inputs=True)\n",
    "# TODO set next nodes after"
   ]
  },
  {
   "cell_type": "code",
   "execution_count": 26,
   "metadata": {},
   "outputs": [],
   "source": [
    "advertisement_prompt = f\"\"\"You are a customer service chatbot. Answer the questions based on the provided policies.\n",
    "\n",
    "<< ADVERTISEMENT QUESTIONS >>\n",
    "{marketing_policy}\n",
    "\n",
    "\n",
    "<< USER MESSAGE >>\n",
    "\"\"\" + \"\"\"{user_message}\n",
    "BOT RESPONSE:\"\"\""
   ]
  },
  {
   "cell_type": "code",
   "execution_count": 27,
   "metadata": {},
   "outputs": [],
   "source": [
    "adv_node = NodeFactory.create_node(model_name=model_name, prompt_template=advertisement_prompt, \n",
    "                                   input_variables=['user_message'],\n",
    "                                   output_variables='response',\n",
    "                                   is_output=True)"
   ]
  },
  {
   "cell_type": "code",
   "execution_count": 28,
   "metadata": {},
   "outputs": [],
   "source": [
    "technical_prompt = f\"\"\"You are a customer service chatbot. Answer the questions based on the provided policies.\n",
    "\n",
    "<< TECHNICAL QUESTIONS >>\n",
    "{technical_policies}\n",
    "\n",
    "\n",
    "<< USER MESSAGE >>\n",
    "\"\"\" + \"\"\"{user_message}\n",
    "BOT RESPONSE:\"\"\""
   ]
  },
  {
   "cell_type": "code",
   "execution_count": 29,
   "metadata": {},
   "outputs": [],
   "source": [
    "tech_node = NodeFactory.create_node(model_name=model_name, prompt_template=technical_prompt, \n",
    "                                   input_variables=['user_message'],\n",
    "                                   output_variables='response',\n",
    "                                   is_output=True)"
   ]
  },
  {
   "cell_type": "code",
   "execution_count": 30,
   "metadata": {},
   "outputs": [],
   "source": [
    "sales_prompt = f\"\"\"You are a customer service chatbot. Answer the questions based on the provided policies.\n",
    "\n",
    "<< SALES QUESTIONS >>\n",
    "{sales_policies}\n",
    "\n",
    "\n",
    "<< USER MESSAGE >>\n",
    "\"\"\" + \"\"\"{user_message}\n",
    "BOT RESPONSE:\"\"\""
   ]
  },
  {
   "cell_type": "code",
   "execution_count": 31,
   "metadata": {},
   "outputs": [],
   "source": [
    "sales_node = NodeFactory.create_node(model_name=model_name, prompt_template=sales_prompt, \n",
    "                                   input_variables=['user_message'],\n",
    "                                   output_variables='response',\n",
    "                                   is_output=True)"
   ]
  },
  {
   "cell_type": "code",
   "execution_count": 33,
   "metadata": {},
   "outputs": [],
   "source": [
    "chitchat_prompt = \"\"\"You are a warm and welcoming customer service chatbot of Pinnacle Auto Group a dealership. \n",
    "chat with the client in a chitchat style and ask them if they have questions from customer service.\n",
    "\n",
    "<< USER MESSAGE >>\n",
    "{user_message}\n",
    "BOT RESPONSE:\"\"\""
   ]
  },
  {
   "cell_type": "code",
   "execution_count": 34,
   "metadata": {},
   "outputs": [],
   "source": [
    "chitchat_node = NodeFactory.create_node(model_name=model_name, prompt_template=chitchat_prompt, \n",
    "                                   input_variables=['user_message'],\n",
    "                                   output_variables='response',\n",
    "                                   is_output=True)"
   ]
  },
  {
   "cell_type": "code",
   "execution_count": 35,
   "metadata": {},
   "outputs": [],
   "source": [
    "start_node.set_next_item({sales_node: Condition('sales', True, Operator.EQUALS),\n",
    "                          adv_node: Condition('advertisement', True, Operator.EQUALS),\n",
    "                          tech_node: Condition('technical', True, Operator.EQUALS),\n",
    "                          chitchat_node: Condition('chitchat', True, Operator.EQUALS)})"
   ]
  },
  {
   "cell_type": "code",
   "execution_count": 40,
   "metadata": {},
   "outputs": [],
   "source": [
    "from bot.models.flow import Flow\n",
    "\n",
    "customer_service_flow = Flow(start_node=start_node)"
   ]
  },
  {
   "cell_type": "code",
   "execution_count": 41,
   "metadata": {},
   "outputs": [
    {
     "name": "stdout",
     "output_type": "stream",
     "text": [
      "{'technical': False, 'sales': False, 'advertisement': False, 'chitchat': True, 'user_message': 'Hey, How are you?'}\n",
      "{'technical': False, 'sales': False, 'advertisement': False, 'chitchat': True, 'user_message': 'Hey, How are you?'}\n",
      "{'technical': False, 'sales': False, 'advertisement': False, 'chitchat': True, 'user_message': 'Hey, How are you?'}\n",
      "{'technical': False, 'sales': False, 'advertisement': False, 'chitchat': True, 'user_message': 'Hey, How are you?'}\n",
      "{'response': \"Hey there! 😊 I'm doing great, thanks for asking! How about you? How's your day going? And oh, by the way, if you have any questions or need assistance from our customer service, feel free to ask. I'm here to help!\"}\n"
     ]
    }
   ],
   "source": [
    "inp = {'user_message': 'Hey, How are you?'}\n",
    "print(customer_service_flow.run(inp))"
   ]
  },
  {
   "cell_type": "code",
   "execution_count": 42,
   "metadata": {},
   "outputs": [
    {
     "name": "stdout",
     "output_type": "stream",
     "text": [
      "{'technical': False, 'sales': True, 'advertisement': False, 'chitchat': False, 'user_message': 'What is your return policy?'}\n",
      "{'response': 'Our dealership does not have a specific return policy mentioned in the provided information. For details regarding returns or to discuss any concerns you may have about a vehicle purchase, please contact our sales team directly. They will be able to provide you with the most accurate and up-to-date information regarding our policies on returns and how we can assist you further.'}\n"
     ]
    }
   ],
   "source": [
    "inp = {'user_message': 'What is your return policy?'}\n",
    "print(customer_service_flow.run(inp))"
   ]
  },
  {
   "cell_type": "code",
   "execution_count": 43,
   "metadata": {},
   "outputs": [
    {
     "name": "stdout",
     "output_type": "stream",
     "text": [
      "{'technical': False, 'sales': True, 'advertisement': False, 'chitchat': False, 'user_message': 'Can I negotiate the price of a vehicle listed on your website?'}\n",
      "{'response': \"Yes, we welcome negotiation and strive to offer fair and competitive pricing on all of our vehicles. If you're interested in a vehicle but have concerns about the price, please don't hesitate to contact our sales team. They'll be happy to work with you to find a mutually agreeable deal.\"}\n"
     ]
    }
   ],
   "source": [
    "inp = {'user_message': 'Can I negotiate the price of a vehicle listed on your website?'}\n",
    "print(customer_service_flow.run(inp))"
   ]
  },
  {
   "cell_type": "markdown",
   "metadata": {},
   "source": [
    "## Test retrieval bots"
   ]
  },
  {
   "cell_type": "code",
   "execution_count": 3,
   "metadata": {},
   "outputs": [],
   "source": [
    "from bot.models.node import RetrievalStrOutputNode\n",
    "\n",
    "\n",
    "model_name = 'gpt-4'\n",
    "prompt_template = \"\"\"Answer the following question based on the provided context. Avoid using your own knowledge and adhere to the provided data.\n",
    "\n",
    "<< query >> \n",
    "{query}\n",
    "\n",
    "<< context >>\n",
    "{context}\n",
    "\"\"\"\n",
    "persist_directory = '/mnt/d/work/DPNA/ChatbotFlow-data/data'\n",
    "docs_dir = '/mnt/d/work/DPNA/ChatbotFlow-data/1.ATaleofTwoCitiesAuthorCharlesDickens.pdf'\n",
    "node = RetrievalStrOutputNode(model_name=model_name, \n",
    "                 prompt_template= prompt_template, \n",
    "                 input_variables=['query'], \n",
    "                 output_variables='response',\n",
    "                 persist_directory=persist_directory,\n",
    "                 collection_name='test-retrieval',\n",
    "                 docs_dir=docs_dir,\n",
    "                 context_var='context',\n",
    "                 query_var= 'query',\n",
    "                 k_result= 3,\n",
    "                 return_inputs= True,\n",
    "                 is_output= True)"
   ]
  },
  {
   "cell_type": "code",
   "execution_count": 4,
   "metadata": {},
   "outputs": [
    {
     "data": {
      "text/plain": [
       "{'response': 'The context does not provide information about what the book is about.',\n",
       " 'query': 'what is the book about?',\n",
       " 'context': 'Book theSecond\\nTheGolden Thread\\nBook theFirst\\nRecalled toLife\\nBook theThird\\nTheTrack ofaStorm'}"
      ]
     },
     "execution_count": 4,
     "metadata": {},
     "output_type": "execute_result"
    }
   ],
   "source": [
    "inp = {'query':'what is the book about?'}\n",
    "out = node.run(inp)\n",
    "out"
   ]
  },
  {
   "cell_type": "code",
   "execution_count": 6,
   "metadata": {},
   "outputs": [
    {
     "data": {
      "text/plain": [
       "{'response': 'The text does not provide specific information on who Jerry is.',\n",
       " 'query': 'who is jerry?',\n",
       " 'context': \"your \\x03opping tricks andyour unfeeling conduct. Look atyour boy: he\\nisyour'n, ain'the?He'sasthinasalath. Doyoucallyourself amother ,\\nandnotknow thatamother' s\\x02rstduty istoblow herboyout?\\x94\\nThis touched Young Jerry onatender place; who adjured hismother\\ntoperform her\\x02rstduty,and, whatever elseshedidorneglected, above\\nallthings tolayespecial stress onthedischarge ofthatmaternal function\\nsoaffectingly anddelicately indicated byhisother parent.\\nThus theevening wore away with theCruncher family ,until Young\\nJerry wasordered tobed, andhismother ,laidunder similar injunctions,\\nobeyed them. Mr.Cruncher beguiled theearlier watches ofthenight\\nwith solitary pipes, anddidnotstart upon hisexcursion until nearly\\noneo'clock. Towards thatsmall andghostly hour,herose upfrom his\\nchair,took akeyoutofhispocket, opened alocked cupboard, and\\nbrought forth asack, acrowbar ofconvenient size, arope andchain,\\nandother \\x02shing tackle ofthatnature. Disposing these articles about\\nunspeakable astonishment atJerry.\\n\\x93Itellyou,\\x94 saidJerry,\\x93that youburied paving-stones andearth in\\nthatthere cof\\x02n. Don' tgoandtellmethatyouburied Cly.Itwasatake\\n266\\nappeared tobeadjusting some instrument likeagreat corkscrew .What-\\nevertools they worked with, they worked hard, until theawful striking\\nofthechurch clock soterri\\x02ed Young Jerry,thathemade off,with his\\nhairasstiffashisfather' s.\\nBut, hislong-cherished desire toknow more about these matters,\\nnotonly stopped himinhisrunning away ,butlured himback again.\\n140\"}"
      ]
     },
     "execution_count": 6,
     "metadata": {},
     "output_type": "execute_result"
    }
   ],
   "source": [
    "inp = {'query':'who is jerry?'}\n",
    "out = node.run(inp)\n",
    "out"
   ]
  },
  {
   "cell_type": "code",
   "execution_count": 5,
   "metadata": {},
   "outputs": [],
   "source": [
    "from langchain.document_loaders import PyPDFLoader\n",
    "\n",
    "loader = PyPDFLoader(\"KashaniParia-resume-v10.pdf\")\n",
    "docs = loader.load_and_split()"
   ]
  },
  {
   "cell_type": "code",
   "execution_count": 4,
   "metadata": {},
   "outputs": [
    {
     "data": {
      "text/plain": [
       "[Document(page_content='(+46) 79 348 6010\\nKarlstad, Varmland County, Sweden\\npariakashani96@gmail.comParia Kashani\\nML Engineergithub.com/PariaKashani\\nlinkedin.com/in/pariakashani\\nAn AI-focused software engineer with a Master’s in Artificial Intelligence from Sharif University of Technology. Experienced in deep\\nlearning, machine learning, and computer vision projects, specializing in enhancing AI robustness. Actively seeking opportunities\\nto solve real-world challenges.\\nTECHNICAL EXPERIENCE\\nAI Developer Intern Feb 2024 — Present\\nSvea Partners Stockholm, Sweden (remote)\\n•Developing an educational chatbot for DigitalSyv app using OpenAI models and Langchain library\\nML Engineer Apr 2023 — Present\\nFinitX Istanbul, T urkey (remote, part-time)\\n•Developed Chatbots and automatic content generation services using OpenAI models and the Langchain library\\n•Developed APIs using FastAPI and Flask libraries\\n•Enhanced run-time by parallelizing content generation code using multiprocessing library\\nSoftware Engineer Nov 2021 — Apr 2022\\nOcularAI Inc. Toronto, Canada (remote, part-time)\\n•Developed and maintained Django service\\n•Maintained PostgreSQL Databases and Docker service\\n•Developed and maintained Golang service\\n•Gathered data for machine learning tasks\\nData Scientist Nov 2020 — Apr 2022\\nMCI Lab Tehran, Iran (part-time)\\n•Worked on Anomaly Detection on the internet usage data of Hamrah Aval (a telecommunication company in Iran) clients\\n•Analyzed and forecast time-series data using statistical, machine learning, and deep learning methods\\nSoftware Developer Jan 2019 — Sep 2019\\nNeshan Maps and Navigation Mashhad, Iran\\n•Implemented restful web services using the spring-boot framework and PostgreSQL for crowd-sourcing in the application\\n•Implemented monitoring services to check the status of traffic estimation algorithms\\n•Used RabbitMQ to send data between services\\nJava EE Intern Aug 2018 — Oct 2018\\nFanap Soft Mashhad, Iran\\n•Implemented a Java-EE application for a student system using Jersy and H2\\nComputer Science Intern Jan 2017 — Sep 2017\\nFerdowsi University Robotics Lab Mashhad, Iran\\n•Built Windows Embedded in a network of virtual machines\\n•Implemented a robot language compiler using ANTLR\\nEDUCATION\\nMSc in Artificial Intelligence ,Sharif University of Technology Sep 2019 — Nov2022\\nThesis: Effect of Generated Data on The Robustness of Adversarial Distillation Methods\\nBSc in Computer Engineering ,Ferdowsi University of Mashhad Sep 2014 — Jan 2019\\nProject: Augmented reality using the base image mapping on the flat surfaces of the input image interactively\\nSKILLS\\nTools and Languages Python, PyTorch, Langchain, FastAPI, PostgreSQL, NumPy, Pandas, SimPy, Git, Java, Spring boot\\noperating Systems Linux(advanced), Windows(advanced)\\nSoft Skills Team Work, Problem Solving, Adaptability\\nTEACHING ASSISTANCE EXPERIENCE\\nAssisted professors with designing exercises and holding TA classes in the following courses:\\nMathematics for Machine Learning ,Supervisor: Dr. Mahdi Jafari Siavoshani Jul 2023 — Oct 2023\\nInformation Theory and Coding ,Supervisor: Dr. Mahdi Jafari Siavoshani Oct 2021 — Feb 2022\\nDeep Learning ,Supervisor: Dr. Hamid Beigi Feb 2021 — Jul 2021\\nStochastic Processes ,Supervisor: Dr. Mahdi Jafari Siavoshani Feb 2021 — Jul 2021\\nMachine Learning ,Supervisor: Dr. Mahdieh Soleymani Sep 2020 — Jan 2021\\nOperating Systems ,Supervisor: Dr. Mohsen Asadi Feb 2017 — Jul 2017', metadata={'source': 'KashaniParia-resume-v10.pdf', 'page': 0}),\n",
       " Document(page_content='(+46) 79 348 6010\\nKarlstad, Varmland County, Sweden\\npariakashani96@gmail.comParia Kashani\\nML Engineergithub.com/PariaKashani\\nlinkedin.com/in/pariakashani\\nLANGUAGES\\nFirst Language Persian Second Languages English (fluent), Swedish (beginner)\\nVOLUNTEER\\nEducation Volunteer ,Kodcentrum Feb 2024 — Present\\nTeaching Programming to 9-13 years old children in Karlstad City Library and Karlstad University', metadata={'source': 'KashaniParia-resume-v10.pdf', 'page': 1})]"
      ]
     },
     "execution_count": 4,
     "metadata": {},
     "output_type": "execute_result"
    }
   ],
   "source": [
    "docs"
   ]
  },
  {
   "cell_type": "code",
   "execution_count": 7,
   "metadata": {},
   "outputs": [],
   "source": [
    "from langchain_openai import ChatOpenAI\n",
    "from langchain_openai import OpenAIEmbeddings\n",
    "\n",
    "llm = ChatOpenAI(model_name=\"gpt-3.5-turbo\", temperature=0.8)\n",
    "\n",
    "embeddings = OpenAIEmbeddings()"
   ]
  },
  {
   "cell_type": "code",
   "execution_count": 8,
   "metadata": {},
   "outputs": [],
   "source": [
    "from langchain_community.vectorstores import Chroma\n",
    "from langchain_text_splitters import CharacterTextSplitter\n",
    "\n",
    "chroma_db = Chroma.from_documents(\n",
    "    documents=docs, \n",
    "    embedding=embeddings, \n",
    "    persist_directory=\"/mnt/d/work/DPNA/ChatbotFlow-data/data\", \n",
    "    collection_name=\"lc_chroma_demo\"\n",
    ")"
   ]
  },
  {
   "cell_type": "code",
   "execution_count": 9,
   "metadata": {},
   "outputs": [
    {
     "name": "stderr",
     "output_type": "stream",
     "text": [
      "Number of requested results 4 is greater than number of elements in index 2, updating n_results = 2\n",
      "/mnt/d/work/DPNA/ChatbotFlow/env/lib/python3.10/site-packages/langchain_core/_api/deprecation.py:117: LangChainDeprecationWarning: The function `__call__` was deprecated in LangChain 0.1.0 and will be removed in 0.2.0. Use invoke instead.\n",
      "  warn_deprecated(\n",
      "Number of requested results 4 is greater than number of elements in index 2, updating n_results = 2\n"
     ]
    }
   ],
   "source": [
    "from langchain.chains import RetrievalQA\n",
    "\n",
    "query = \"What is this document about?\"\n",
    "docs = chroma_db.similarity_search(query)\n",
    "\n",
    "chain = RetrievalQA.from_chain_type(llm=llm,\n",
    "                                    chain_type=\"stuff\",\n",
    "                                    retriever=chroma_db.as_retriever())\n",
    "\n",
    "response = chain(query)"
   ]
  },
  {
   "cell_type": "code",
   "execution_count": 10,
   "metadata": {},
   "outputs": [
    {
     "data": {
      "text/plain": [
       "{'query': 'What is this document about?',\n",
       " 'result': 'This document is a professional profile or resume of an AI-focused software engineer named Paria Kashani. It includes information about her education, work experience, technical skills, teaching experience, and contact details. It highlights her expertise in deep learning, machine learning, computer vision, and AI robustness, along with her experience in various roles in companies and as an education volunteer.'}"
      ]
     },
     "execution_count": 10,
     "metadata": {},
     "output_type": "execute_result"
    }
   ],
   "source": [
    "response"
   ]
  },
  {
   "cell_type": "code",
   "execution_count": null,
   "metadata": {},
   "outputs": [],
   "source": [
    "# 1. type of documents\n",
    "# 2. split method of the documents\n",
    "# 3. type of the retriever\n",
    "# 4. \n",
    "\n",
    "# Other issues:\n",
    "# We are not using latest langchain features that provide parallel processing and other enhancements\n",
    "# so the library is not scalable and wont be used for important applications"
   ]
  }
 ],
 "metadata": {
  "kernelspec": {
   "display_name": "env",
   "language": "python",
   "name": "python3"
  },
  "language_info": {
   "codemirror_mode": {
    "name": "ipython",
    "version": 3
   },
   "file_extension": ".py",
   "mimetype": "text/x-python",
   "name": "python",
   "nbconvert_exporter": "python",
   "pygments_lexer": "ipython3",
   "version": "3.10.12"
  }
 },
 "nbformat": 4,
 "nbformat_minor": 2
}
