{
 "cells": [
  {
   "cell_type": "code",
   "execution_count": 1,
   "metadata": {},
   "outputs": [
    {
     "name": "stdout",
     "output_type": "stream",
     "text": [
      "/mnt/d/work/DPNA/ChatbotFlow\n"
     ]
    }
   ],
   "source": [
    "%cd ..\n",
    "from dotenv import load_dotenv\n",
    "\n",
    "load_dotenv()\n",
    "\n",
    "model_name = 'gpt-4-turbo-preview'"
   ]
  },
  {
   "cell_type": "markdown",
   "metadata": {},
   "source": [
    "## Test Chatbot: Customer Service"
   ]
  },
  {
   "cell_type": "code",
   "execution_count": 20,
   "metadata": {},
   "outputs": [],
   "source": [
    "marketing_policy = \"\"\"Advertisement Related Questions and Answers\n",
    "\n",
    "Welcome to the Pinnacle Auto Group Customer Service Bot! If you have any questions related to our advertisements, promotions, or special offers, you've come to the right place. Below are some common advertisement-related questions and their answers to assist you:\n",
    "\n",
    "Q: Where can I find information about your current promotions and special offers?\n",
    "A: You can find information about our current promotions and special offers on our website's homepage and dedicated promotions page. We also regularly update our social media channels with the latest deals and incentives, so be sure to follow us on [Facebook, Twitter, Instagram, etc.] for the most up-to-date information.\n",
    "\n",
    "Q: Do you offer any discounts or incentives for first-time buyers or loyal customers?\n",
    "A: Yes, we occasionally offer discounts, incentives, and special deals for first-time buyers, as well as for our loyal customers. These promotions may vary depending on current market conditions and dealership policies. For the latest information on available discounts and incentives, please contact our sales team or visit our website.\n",
    "\n",
    "Q: Can I request more information about a specific vehicle featured in one of your advertisements?\n",
    "A: Absolutely! If you're interested in a vehicle featured in one of our advertisements and would like more information, simply contact our sales team. They'll be happy to provide you with additional details, schedule a test drive, and assist you with any questions you may have about the vehicle.\n",
    "\n",
    "Q: How can I stay updated on your latest advertisements and promotions?\n",
    "A: To stay updated on our latest advertisements and promotions, we recommend subscribing to our email newsletter and following us on social media. You can also check our website regularly for updates and sign up to receive notifications about new deals and offers.\n",
    "\n",
    "Q: Do you have any referral programs or incentives for customers who refer friends and family?\n",
    "A: Yes, we value referrals from satisfied customers and may offer referral programs or incentives from time to time. If you refer a friend or family member who purchases a vehicle from us, you may be eligible for special rewards or discounts. For more information about our referral programs, please contact our sales team.\n",
    "\n",
    "Q: Can I request a quote or pricing information for a specific vehicle advertised on your website or in other promotional materials?\n",
    "A: Of course! If you're interested in a vehicle advertised on our website or in other promotional materials and would like pricing information or a quote, please contact our sales team. They'll be happy to provide you with a personalized quote and answer any questions you may have about the vehicle.\n",
    "\"\"\""
   ]
  },
  {
   "cell_type": "code",
   "execution_count": 21,
   "metadata": {},
   "outputs": [],
   "source": [
    "technical_policies = \"\"\"Technical Questions and Answers\n",
    "\n",
    "Welcome to the Pinnacle Auto Group Customer Service Bot! We're here to assist you with any technical questions you may have regarding our website, vehicles, or online services. Below are some common technical questions and their answers to help guide you:\n",
    "\n",
    "Q: How do I search for a specific car model on your website?\n",
    "A: To search for a specific car model, simply use the search bar located at the top of our website. Type in the make, model, or any other relevant keywords, and press enter. You can also use the filters on the search results page to narrow down your options by price, year, mileage, and more.\n",
    "\n",
    "Q: I'm having trouble accessing my account. What should I do?\n",
    "A: If you're having trouble accessing your account, first ensure that you're using the correct username and password. If you've forgotten your password, you can click on the \"Forgot Password\" link on the login page to reset it. If you continue to experience issues, please contact our customer support team for further assistance.\n",
    "\n",
    "Q: How can I schedule a test drive for a vehicle I'm interested in?\n",
    "A: To schedule a test drive, simply navigate to the vehicle listing page and click on the \"Schedule Test Drive\" button. Fill out the form with your contact information and preferred date and time for the test drive. Our sales team will then reach out to confirm the appointment and assist you further.\n",
    "\n",
    "Q: Do you offer financing options for purchasing a car?\n",
    "A: Yes, we offer flexible financing options to help make purchasing a car more affordable. You can apply for financing directly through our website by filling out the online finance application form. Our finance experts will then review your application and work with our network of lenders to secure competitive rates and terms for you.\n",
    "\n",
    "Q: How can I get more information about a specific vehicle in your inventory?\n",
    "A: If you'd like more information about a specific vehicle in our inventory, simply click on the listing to view detailed photos, specifications, and features. If you have additional questions or would like to request a vehicle history report, you can contact our sales team through the website or by phone for further assistance.\n",
    "\n",
    "Q: Is your website accessible for users with disabilities?\n",
    "A: Yes, our website is designed to be accessible to all users, including those with disabilities. We adhere to WCAG (Web Content Accessibility Guidelines) standards to ensure that our website is perceivable, operable, and understandable for all individuals. If you encounter any accessibility issues, please let us know, and we will address them promptly\n",
    "\"\"\""
   ]
  },
  {
   "cell_type": "code",
   "execution_count": 22,
   "metadata": {},
   "outputs": [],
   "source": [
    "sales_policies = \"\"\"Sales Related Questions and Answers\n",
    "\n",
    "Welcome to the Pinnacle Auto Group Customer Service Bot! If you have any questions related to sales, purchasing a vehicle, or our dealership's sales policies, you're in the right place. Below are some common sales-related questions and their answers to assist you:\n",
    "\n",
    "Q: What is the price of [specific vehicle model] in your inventory?\n",
    "A: Our inventory is regularly updated with new arrivals and changes in pricing. To get the latest pricing information for a specific vehicle, please visit our website and navigate to the listing for that vehicle. If you have any further questions or need assistance, our sales team is available to help.\n",
    "\n",
    "Q: Do you offer financing options for purchasing a car?\n",
    "A: Yes, we offer financing options to help make purchasing a car more affordable. Our finance team works with a network of reputable lenders to secure competitive rates and terms for our customers. To learn more about our financing options and to apply online, please visit our website or contact our sales team.\n",
    "\n",
    "Q: Can I trade in my current vehicle when purchasing a car from your dealership?\n",
    "A: Yes, we offer trade-in services for customers looking to sell or trade in their current vehicle. Our sales team will assess the value of your trade-in vehicle and provide you with a fair and competitive offer. To get started, please contact us or visit our dealership for a vehicle appraisal.\n",
    "\n",
    "Q: How can I schedule a test drive for a vehicle I'm interested in?\n",
    "A: Scheduling a test drive is easy! Simply visit our website and navigate to the listing for the vehicle you're interested in. You'll find an option to schedule a test drive directly on the listing page. Fill out the form with your contact information and preferred date and time, and our sales team will confirm the appointment with you.\n",
    "\n",
    "Q: Do you offer any warranties or guarantees for the vehicles you sell?\n",
    "A: Yes, we stand behind the quality of our vehicles and offer warranties and guarantees for added peace of mind. The specific warranty coverage may vary depending on the vehicle and its age, mileage, and condition. Our sales team can provide you with more information about available warranty options for the vehicle you're interested in.\n",
    "\n",
    "Q: Can I negotiate the price of a vehicle listed on your website?\n",
    "A: Yes, we welcome negotiation and strive to offer fair and competitive pricing on all of our vehicles. If you're interested in a vehicle but have concerns about the price, please don't hesitate to contact our sales team. They'll be happy to work with you to find a mutually agreeable deal.\"\"\""
   ]
  },
  {
   "cell_type": "code",
   "execution_count": 23,
   "metadata": {},
   "outputs": [],
   "source": [
    "decision_prompt = \"\"\"Categorize the user message into one of the following categories:\n",
    "1. technical\n",
    "2. sales\n",
    "3. advertisement\n",
    "4. chitchat\n",
    "\n",
    "<< USER MESSAGE >>\n",
    "{user_message}\n",
    "\n",
    "<< RULES >>\n",
    "1- Put your answer in json format.\n",
    "1- The output is a json object that the value of the input message category is TRUE and other output keys are FALSE\n",
    "\"\"\""
   ]
  },
  {
   "cell_type": "code",
   "execution_count": 24,
   "metadata": {},
   "outputs": [],
   "source": [
    "from bot.models.condition import Condition, Operator\n",
    "from bot.models.node import NodeFactory\n",
    "\n",
    "\n",
    "start_node = NodeFactory.create_node(model_name=model_name, prompt_template=decision_prompt, \n",
    "                                     input_variables=['user_message'], \n",
    "                                     output_variables={'technical':bool, \n",
    "                                                       'sales':bool, \n",
    "                                                       'advertisement':bool,\n",
    "                                                       'chitchat': bool},\n",
    "                                                       return_inputs=True)\n",
    "# TODO set next nodes after"
   ]
  },
  {
   "cell_type": "code",
   "execution_count": 26,
   "metadata": {},
   "outputs": [],
   "source": [
    "advertisement_prompt = f\"\"\"You are a customer service chatbot. Answer the questions based on the provided policies.\n",
    "\n",
    "<< ADVERTISEMENT QUESTIONS >>\n",
    "{marketing_policy}\n",
    "\n",
    "\n",
    "<< USER MESSAGE >>\n",
    "\"\"\" + \"\"\"{user_message}\n",
    "BOT RESPONSE:\"\"\""
   ]
  },
  {
   "cell_type": "code",
   "execution_count": 27,
   "metadata": {},
   "outputs": [],
   "source": [
    "adv_node = NodeFactory.create_node(model_name=model_name, prompt_template=advertisement_prompt, \n",
    "                                   input_variables=['user_message'],\n",
    "                                   output_variables='response',\n",
    "                                   is_output=True)"
   ]
  },
  {
   "cell_type": "code",
   "execution_count": 28,
   "metadata": {},
   "outputs": [],
   "source": [
    "technical_prompt = f\"\"\"You are a customer service chatbot. Answer the questions based on the provided policies.\n",
    "\n",
    "<< TECHNICAL QUESTIONS >>\n",
    "{technical_policies}\n",
    "\n",
    "\n",
    "<< USER MESSAGE >>\n",
    "\"\"\" + \"\"\"{user_message}\n",
    "BOT RESPONSE:\"\"\""
   ]
  },
  {
   "cell_type": "code",
   "execution_count": 29,
   "metadata": {},
   "outputs": [],
   "source": [
    "tech_node = NodeFactory.create_node(model_name=model_name, prompt_template=technical_prompt, \n",
    "                                   input_variables=['user_message'],\n",
    "                                   output_variables='response',\n",
    "                                   is_output=True)"
   ]
  },
  {
   "cell_type": "code",
   "execution_count": 30,
   "metadata": {},
   "outputs": [],
   "source": [
    "sales_prompt = f\"\"\"You are a customer service chatbot. Answer the questions based on the provided policies.\n",
    "\n",
    "<< SALES QUESTIONS >>\n",
    "{sales_policies}\n",
    "\n",
    "\n",
    "<< USER MESSAGE >>\n",
    "\"\"\" + \"\"\"{user_message}\n",
    "BOT RESPONSE:\"\"\""
   ]
  },
  {
   "cell_type": "code",
   "execution_count": 31,
   "metadata": {},
   "outputs": [],
   "source": [
    "sales_node = NodeFactory.create_node(model_name=model_name, prompt_template=sales_prompt, \n",
    "                                   input_variables=['user_message'],\n",
    "                                   output_variables='response',\n",
    "                                   is_output=True)"
   ]
  },
  {
   "cell_type": "code",
   "execution_count": 33,
   "metadata": {},
   "outputs": [],
   "source": [
    "chitchat_prompt = \"\"\"You are a warm and welcoming customer service chatbot of Pinnacle Auto Group a dealership. \n",
    "chat with the client in a chitchat style and ask them if they have questions from customer service.\n",
    "\n",
    "<< USER MESSAGE >>\n",
    "{user_message}\n",
    "BOT RESPONSE:\"\"\""
   ]
  },
  {
   "cell_type": "code",
   "execution_count": 34,
   "metadata": {},
   "outputs": [],
   "source": [
    "chitchat_node = NodeFactory.create_node(model_name=model_name, prompt_template=chitchat_prompt, \n",
    "                                   input_variables=['user_message'],\n",
    "                                   output_variables='response',\n",
    "                                   is_output=True)"
   ]
  },
  {
   "cell_type": "code",
   "execution_count": 35,
   "metadata": {},
   "outputs": [],
   "source": [
    "start_node.set_next_item({sales_node: Condition('sales', True, Operator.EQUALS),\n",
    "                          adv_node: Condition('advertisement', True, Operator.EQUALS),\n",
    "                          tech_node: Condition('technical', True, Operator.EQUALS),\n",
    "                          chitchat_node: Condition('chitchat', True, Operator.EQUALS)})"
   ]
  },
  {
   "cell_type": "code",
   "execution_count": 40,
   "metadata": {},
   "outputs": [],
   "source": [
    "from bot.models.flow import Flow\n",
    "\n",
    "customer_service_flow = Flow(start_node=start_node)"
   ]
  },
  {
   "cell_type": "code",
   "execution_count": 41,
   "metadata": {},
   "outputs": [
    {
     "name": "stdout",
     "output_type": "stream",
     "text": [
      "{'technical': False, 'sales': False, 'advertisement': False, 'chitchat': True, 'user_message': 'Hey, How are you?'}\n",
      "{'technical': False, 'sales': False, 'advertisement': False, 'chitchat': True, 'user_message': 'Hey, How are you?'}\n",
      "{'technical': False, 'sales': False, 'advertisement': False, 'chitchat': True, 'user_message': 'Hey, How are you?'}\n",
      "{'technical': False, 'sales': False, 'advertisement': False, 'chitchat': True, 'user_message': 'Hey, How are you?'}\n",
      "{'response': \"Hey there! 😊 I'm doing great, thanks for asking! How about you? How's your day going? And oh, by the way, if you have any questions or need assistance from our customer service, feel free to ask. I'm here to help!\"}\n"
     ]
    }
   ],
   "source": [
    "inp = {'user_message': 'Hey, How are you?'}\n",
    "print(customer_service_flow.run(inp))"
   ]
  },
  {
   "cell_type": "code",
   "execution_count": 42,
   "metadata": {},
   "outputs": [
    {
     "name": "stdout",
     "output_type": "stream",
     "text": [
      "{'technical': False, 'sales': True, 'advertisement': False, 'chitchat': False, 'user_message': 'What is your return policy?'}\n",
      "{'response': 'Our dealership does not have a specific return policy mentioned in the provided information. For details regarding returns or to discuss any concerns you may have about a vehicle purchase, please contact our sales team directly. They will be able to provide you with the most accurate and up-to-date information regarding our policies on returns and how we can assist you further.'}\n"
     ]
    }
   ],
   "source": [
    "inp = {'user_message': 'What is your return policy?'}\n",
    "print(customer_service_flow.run(inp))"
   ]
  },
  {
   "cell_type": "code",
   "execution_count": 43,
   "metadata": {},
   "outputs": [
    {
     "name": "stdout",
     "output_type": "stream",
     "text": [
      "{'technical': False, 'sales': True, 'advertisement': False, 'chitchat': False, 'user_message': 'Can I negotiate the price of a vehicle listed on your website?'}\n",
      "{'response': \"Yes, we welcome negotiation and strive to offer fair and competitive pricing on all of our vehicles. If you're interested in a vehicle but have concerns about the price, please don't hesitate to contact our sales team. They'll be happy to work with you to find a mutually agreeable deal.\"}\n"
     ]
    }
   ],
   "source": [
    "inp = {'user_message': 'Can I negotiate the price of a vehicle listed on your website?'}\n",
    "print(customer_service_flow.run(inp))"
   ]
  },
  {
   "cell_type": "markdown",
   "metadata": {},
   "source": [
    "## Test retrieval bots"
   ]
  },
  {
   "cell_type": "code",
   "execution_count": 4,
   "metadata": {},
   "outputs": [],
   "source": [
    "# from bot.models.node import RetrievalStrOutputNode\n",
    "from bot.models.node import RetrievalNode\n",
    "from bot.models.node import NodeFactory\n",
    "\n",
    "\n",
    "model_name = 'gpt-4'\n",
    "prompt_template = \"\"\"Answer the following question based on the provided context. Avoid using your own knowledge and adhere to the provided data.\n",
    "\n",
    "<< query >> \n",
    "{query}\n",
    "\n",
    "<< context >>\n",
    "{context}\n",
    "\"\"\"\n",
    "persist_directory = '/mnt/d/work/DPNA/ChatbotFlow-data/data'\n",
    "docs_dir = '/mnt/d/work/DPNA/ChatbotFlow-data/1.ATaleofTwoCitiesAuthorCharlesDickens.pdf'\n",
    "node = NodeFactory.create_retrieval(model_name=model_name, \n",
    "                 prompt_template= prompt_template, \n",
    "                 input_variables=['query'], \n",
    "                 output_variables='response',\n",
    "                 persist_directory=persist_directory,\n",
    "                 collection_name='test-retrieval',\n",
    "                 docs_dir=docs_dir,\n",
    "                 context_var='context',\n",
    "                 query_var= 'query',\n",
    "                 k_result= 3,\n",
    "                 return_inputs= True,\n",
    "                 is_output= True)"
   ]
  },
  {
   "cell_type": "code",
   "execution_count": 5,
   "metadata": {},
   "outputs": [
    {
     "data": {
      "text/plain": [
       "{'response': 'The book \"A Tale of Two Cities\" appears to be set during a time of revolution, possibly the French Revolution, given the references to Paris and the \"Revolution-fever\". The story involves characters such as the Defarges, a husband and wife, and Alexandre Manette, a physician, and his daughter Lucie. The narrative seems to revolve around their experiences and interactions during this tumultuous period. There are also references to imprisonment, suggesting that the story deals with themes of oppression, resistance, and possibly redemption.',\n",
       " 'query': 'what is the book about?',\n",
       " 'context': \"ATALEOFTWOCITIES\\nAnd asmere human knowledge cansplit arayoflight andanalyse the\\nmanner ofitscomposition, so,sublimer intelligences may read inthe\\nfeeble shining ofthisearth ofours, every thought andact,every vice\\nandvirtue, ofevery responsible creature onit.\\nTheDefarges, husband andwife, came lumbering under thestarlight,\\nintheir public vehicle, tothatgateofParis whereunto their journey nat-\\nurally tended. There wastheusual stoppage atthebarrier guardhouse,\\nandtheusual lanterns came glancing forth fortheusual examination\\nandinquiry .Monsieur Defarge alighted; knowing oneortwoofthe\\nsoldiery there, andoneofthepolice. Thelatter hewasintimate with,\\nandaffectionately embraced.\\nWhen Saint Antoine hadagain enfolded theDefarges inhisdusky\\nwings, andthey,having \\x02nally alighted near theSaint' sboundaries, were\\npicking their wayonfootthrough theblack mud andoffal ofhisstreets,\\nMadame Defarge spoke toherhusband:\\n\\x93Say then, myfriend; what didJacques ofthepolice tellthee?\\x94\\nATALEOFTWOCITIES\\nyoung \\x02ngers, andtouched hislips.\\n\\x93Are youdying forhim?\\x94 shewhispered.\\n\\x93And hiswife andchild. Hush! Yes.\\x94\\n\\x93Oyouwillletmehold your brave hand, stranger?\\x94\\n\\x93Hush! Yes,mypoor sister; tothelast.\\x94\\nThesame shadows thatarefalling ontheprison, arefalling, inthat\\nsame hour oftheearly afternoon, ontheBarrier with thecrowd about\\nit,when acoach going outofParis drives uptobeexamined.\\n\\x93Who goes here? Whom have wewithin? Papers!\\x94\\nThepapers arehanded out,andread.\\n\\x93Alexandre Manette. Physician. French. Which ishe?\\x94\\nThis ishe;thishelpless, inarticulately murmuring, wandering old\\nman pointed out.\\n\\x93Apparently theCitizen-Doctor isnotinhisright mind? The\\nRevolution-fever willhave been toomuch forhim?\\x94\\nGreatly toomuch forhim.\\n\\x93Hah! Many suffer with it.Lucie. Hisdaughter .French. Which is\\nshe?\\x94\\nThis isshe.\\n\\x93Apparently itmust be.Lucie, thewife ofEvremonde; isitnot?\\x94\\nItis.\\n\\x93Hah! Evremonde hasanassignation elsewhere. Lucie, herchild.\\nEnglish. This isshe?\\x94\\nSheandnoother .\\nATALEOFTWOCITIES\\n\\x93But when itisready ,ittakes place, andgrinds topieces everything\\nbefore it.Inthemeantime, itisalways preparing, though itisnotseen\\norheard. That isyour consolation. Keep it.\\x94\\nShetiedaknot with \\x03ashing eyes, asifitthrottled afoe.\\n\\x93Itellthee,\\x94 saidmadame, extending herright hand, foremphasis,\\n\\x93that although itisalong time ontheroad, itisontheroad andcom-\\ning.Itellthee itnever retreats, andnever stops. Itellthee itisalways\\nadvancing. Look around andconsider thelives ofalltheworld thatwe\\nknow ,consider thefaces ofalltheworld that weknow ,consider the\\nrage anddiscontent towhich theJacquerie addresses itself with more\\nandmore ofcertainty every hour.Can such things last? Bah! Imock\\nyou.\\x94\\n\\x93My brave wife,\\x94 returned Defarge, standing before herwith his\\nhead alittle bent, andhishands clasped athisback, likeadocile and\\nattentive pupil before hiscatechist, \\x93Idonotquestion allthis. Butit\\nhaslasted along time, anditispossible\\x97you know well, mywife, itis\\ntheir swords. Theleading curiosity is,toknow which ishe;hestands\\nattheback ofthetumbril with hishead bent down, toconverse with a\\nmere girlwho sitsonthesideofthecart, andholds hishand. Hehasno\\ncuriosity orcareforthescene about him, andalways speaks tothegirl.\\nHere andthere inthelong street ofSt.Honore, cries areraised against\\nhim. Ifthey move himatall,itisonly toaquiet smile, asheshakes his\\nhairalittle more loosely about hisface. Hecannot easily touch hisface,\\nhisarms being bound.\\nOnthesteps ofachurch, awaiting thecoming-up ofthetumbrils,\\n326\"}"
      ]
     },
     "execution_count": 5,
     "metadata": {},
     "output_type": "execute_result"
    }
   ],
   "source": [
    "inp = {'query':'what is the book about?'}\n",
    "out = node.run(inp)\n",
    "out"
   ]
  },
  {
   "cell_type": "code",
   "execution_count": 6,
   "metadata": {},
   "outputs": [
    {
     "data": {
      "text/plain": [
       "{'response': 'Jerry is a bodyguard who works on Sunday nights. He is described as an English bulldog, loyal to his master.',\n",
       " 'query': 'who is jerry?',\n",
       " 'context': \"\\x93All sorts ofpeople have been proposed tome,butIwillhave noth-\\ningtosaytoanyofthem. Iintend totake Jerry.Jerry hasbeen my\\nbodyguard onSunday nights foralong time pastandIamused tohim.\\nNobody willsuspect Jerry ofbeing anything butanEnglish bull-dog, or\\nofhaving anydesign inhishead butto\\x03yatanybody who touches his\\nmaster .\\x94\\n\\x93Imust sayagain thatIheartily admire your gallantry andyouthful-\\nness.\\x94\\n\\x93Imust sayagain, nonsense, nonsense! When Ihave executed this\\nlittle commission, Ishall, perhaps, accept Tellson' sproposal toretire\\nandliveatmyease. Timeenough, then, tothink about growing old.\\x94\\nThis dialogue hadtaken place atMr.Lorry' susual desk, with Mon-\\nseigneur swarming within ayard ortwoofit,boastful ofwhat hewould\\ndotoavenge himself ontherascal-people before long. Itwastoomuch\\ntheway ofMonseigneur under hisreverses asarefugee, anditwas\\nmuch toomuch thewayofnative British orthodoxy ,totalkofthisterri-\\nbleRevolution asifitwere theonly harvest everknown under theskies\\nyour \\x03opping tricks andyour unfeeling conduct. Look atyour boy: he\\nisyour'n, ain'the?He'sasthinasalath. Doyoucallyourself amother ,\\nandnotknow thatamother' s\\x02rstduty istoblow herboyout?\\x94\\nThis touched Young Jerry onatender place; who adjured hismother\\ntoperform her\\x02rstduty,and, whatever elseshedidorneglected, above\\nallthings tolayespecial stress onthedischarge ofthatmaternal function\\nsoaffectingly anddelicately indicated byhisother parent.\\nThus theevening wore away with theCruncher family ,until Young\\nJerry wasordered tobed, andhismother ,laidunder similar injunctions,\\nobeyed them. Mr.Cruncher beguiled theearlier watches ofthenight\\nwith solitary pipes, anddidnotstart upon hisexcursion until nearly\\noneo'clock. Towards thatsmall andghostly hour,herose upfrom his\\nchair,took akeyoutofhispocket, opened alocked cupboard, and\\nbrought forth asack, acrowbar ofconvenient size, arope andchain,\\nandother \\x02shing tackle ofthatnature. Disposing these articles about\\nappeared tobeadjusting some instrument likeagreat corkscrew .What-\\nevertools they worked with, they worked hard, until theawful striking\\nofthechurch clock soterri\\x02ed Young Jerry,thathemade off,with his\\nhairasstiffashisfather' s.\\nBut, hislong-cherished desire toknow more about these matters,\\nnotonly stopped himinhisrunning away ,butlured himback again.\\n140\\nThere wasno\\x02shforbreakfast, andnotmuch ofanything else. Mr.\\nCruncher wasoutofspirits, andoutoftemper ,andkept aniron pot-\\nlidbyhimasaprojectile forthecorrection ofMrs. Cruncher ,incase\\nheshould observe anysymptoms ofhersaying Grace. Hewasbrushed\\nandwashed attheusual hour,andsetoffwith hissontopursue his\\nostensible calling.\\nYoung Jerry,walking with thestool under hisarm athisfather' s\\nsidealong sunny andcrowded Fleet-street, wasavery different Young\\nJerry from himoftheprevious night, running home through darkness\\nandsolitude from hisgrim pursuer .Hiscunning wasfresh with theday,\\nandhisqualms were gone with thenight\\x97in which particulars itisnot\\nimprobable thathehadcompeers inFleet-street andtheCityofLondon,\\nthat\\x02nemorning.\\n\\x93Father ,\\x94said Young Jerry,asthey walked along: taking care to\\nkeep atarm'slength andtohave thestool wellbetween them: \\x93what' s\\naResurrection-Man?\\x94\\nMr.Cruncher came toastop onthepavement before heanswered,\\n\\x93How should Iknow?\\x94\"}"
      ]
     },
     "execution_count": 6,
     "metadata": {},
     "output_type": "execute_result"
    }
   ],
   "source": [
    "inp = {'query':'who is jerry?'}\n",
    "out = node.run(inp)\n",
    "out"
   ]
  },
  {
   "cell_type": "code",
   "execution_count": 7,
   "metadata": {},
   "outputs": [
    {
     "data": {
      "text/plain": [
       "{'response': 'The story happens in a village.',\n",
       " 'query': 'where the story happens?',\n",
       " 'context': \"think, toeverybody now here, andnoonecantellmewhere thisgentle-\\nman istobefound.\\x94\\nThehands oftheclock verging upon thehour ofclosing theBank,\\nthere wasageneral setofthecurrent oftalkers past Mr.Lorry' sdesk.\\nHeheld theletter outinquiringly; andMonseigneur looked atit,inthe\\nperson ofthisplotting andindignant refugee; andMonseigneur looked\\natitintheperson ofthatplotting andindignant refugee; andThis, That,\\n208\\n\\x93Itisfrightful, messieurs. How canthewomen andthechildren\\ndraw water! Who cangossip ofanevening, under thatshadow! Under\\nit,have Isaid? When Ileftthevillage, Monday evening asthesunwas\\ngoing tobed, andlooked back from thehill,theshadow struck across\\nthechurch, across themill, across theprison\\x97seemed tostrike across\\ntheearth, messieurs, towhere theskyrests upon it!\\x94\\n149\\ntrees, andpoured itsradiance over thehill. Intheglow,thewater of\\nthechateau fountain seemed toturn toblood, andthestone faces crim-\\nsoned. Thecarol ofthebirds wasloud andhigh, and, ontheweather -\\nbeaten sillofthegreat window ofthebed-chamber ofMonsieur the\\nMarquis, onelittle birdsang itssweetest song with allitsmight. Atthis,\\nthenearest stone faceseemed tostare amazed, and, with open mouth\\nanddropped under -jaw,looked awe-stricken.\\nNow,thesunwasfullup,andmovement began inthevillage. Case-\\n111\\nAllthese trivial incidents belonged totheroutine oflife,andthe\\nreturn ofmorning. Surely ,notsotheringing ofthegreat bellofthe\\nchateau, northerunning upanddown thestairs; northehurried \\x02g-\\nures ontheterrace; northebooting andtramping here andthere and\\neverywhere, northequick saddling ofhorses andriding away?\\nWhat winds conveyed thishurry tothegrizzled mender ofroads,\\nalready atwork onthehill-top beyond thevillage, with hisday'sdinner\\n(notmuch tocarry) lying inabundle thatitwasworth nocrow' swhile\\ntopeck at,onaheap ofstones? Had thebirds, carrying some grains\\nofittoadistance, dropped oneover himasthey sow chance seeds?\\nWhether orno,themender ofroads ran,onthesultry morning, asiffor\\nhislife,down thehill,knee-high indust, andnever stopped tillhegot\\ntothefountain.\\nAllthepeople ofthevillage were atthefountain, standing about in\\ntheir depressed manner ,andwhispering low,butshowing noother emo-\\ntions than grim curiosity andsurprise. Theledcows, hastily brought in\"}"
      ]
     },
     "execution_count": 7,
     "metadata": {},
     "output_type": "execute_result"
    }
   ],
   "source": [
    "inp = {'query':'where the story happens?'}\n",
    "out = node.run(inp)\n",
    "out"
   ]
  },
  {
   "cell_type": "code",
   "execution_count": 4,
   "metadata": {},
   "outputs": [],
   "source": [
    "from bot.models.node import NodeFactory\n",
    "\n",
    "\n",
    "model_name = 'gpt-4-turbo-preview'\n",
    "prompt_template = \"\"\"Answer the following question based on the provided context. Avoid using your own knowledge and adhere to the provided data.\n",
    "return your answer in json format.\n",
    "\n",
    "<< query >> \n",
    "{query}\n",
    "\n",
    "<< context >>\n",
    "{context}\n",
    "\"\"\"\n",
    "persist_directory = '/mnt/d/work/DPNA/ChatbotFlow-data/data'\n",
    "docs_dir = '/mnt/d/work/DPNA/ChatbotFlow-data/1.ATaleofTwoCitiesAuthorCharlesDickens.pdf'\n",
    "node_json = NodeFactory.create_retrieval(model_name=model_name, \n",
    "                 prompt_template= prompt_template, \n",
    "                 input_variables=['query'], \n",
    "                 output_variables={'name':str, 'role':str},\n",
    "                 persist_directory=persist_directory,\n",
    "                 collection_name='test-retrieval',\n",
    "                 docs_dir=docs_dir,\n",
    "                 context_var='context',\n",
    "                 query_var= 'query',\n",
    "                 k_result= 3,\n",
    "                 return_inputs= True,\n",
    "                 is_output= True)"
   ]
  },
  {
   "cell_type": "code",
   "execution_count": 6,
   "metadata": {},
   "outputs": [
    {
     "data": {
      "text/plain": [
       "{'name': 'Charles',\n",
       " 'role': \"The most important character in the story, who is depicted as a self-sacrificing figure, willing to die for the sake of another man's wife and child, showcasing his generosity and bravery.\",\n",
       " 'query': 'who is the name of most important character in the story and what is its role?',\n",
       " 'context': \"their swords. Theleading curiosity is,toknow which ishe;hestands\\nattheback ofthetumbril with hishead bent down, toconverse with a\\nmere girlwho sitsonthesideofthecart, andholds hishand. Hehasno\\ncuriosity orcareforthescene about him, andalways speaks tothegirl.\\nHere andthere inthelong street ofSt.Honore, cries areraised against\\nhim. Ifthey move himatall,itisonly toaquiet smile, asheshakes his\\nhairalittle more loosely about hisface. Hecannot easily touch hisface,\\nhisarms being bound.\\nOnthesteps ofachurch, awaiting thecoming-up ofthetumbrils,\\n326\\nATALEOFTWOCITIES\\nyoung \\x02ngers, andtouched hislips.\\n\\x93Are youdying forhim?\\x94 shewhispered.\\n\\x93And hiswife andchild. Hush! Yes.\\x94\\n\\x93Oyouwillletmehold your brave hand, stranger?\\x94\\n\\x93Hush! Yes,mypoor sister; tothelast.\\x94\\nThesame shadows thatarefalling ontheprison, arefalling, inthat\\nsame hour oftheearly afternoon, ontheBarrier with thecrowd about\\nit,when acoach going outofParis drives uptobeexamined.\\n\\x93Who goes here? Whom have wewithin? Papers!\\x94\\nThepapers arehanded out,andread.\\n\\x93Alexandre Manette. Physician. French. Which ishe?\\x94\\nThis ishe;thishelpless, inarticulately murmuring, wandering old\\nman pointed out.\\n\\x93Apparently theCitizen-Doctor isnotinhisright mind? The\\nRevolution-fever willhave been toomuch forhim?\\x94\\nGreatly toomuch forhim.\\n\\x93Hah! Many suffer with it.Lucie. Hisdaughter .French. Which is\\nshe?\\x94\\nThis isshe.\\n\\x93Apparently itmust be.Lucie, thewife ofEvremonde; isitnot?\\x94\\nItis.\\n\\x93Hah! Evremonde hasanassignation elsewhere. Lucie, herchild.\\nEnglish. This isshe?\\x94\\nSheandnoother .\\nthelight ofhis.Iseetheblots Ithrew upon it,faded away .Iseehim,\\nfore-most ofjustjudges andhonoured men, bringing aboyofmyname,\\nwith aforehead thatIknow andgolden hair,tothisplace\\x97then fairto\\nlook upon, with notatrace ofthisday'sdis\\x02gurement\\x97and Ihear him\\ntellthechild mystory,with atender andafaltering voice.\\n\\x93Itisafar,farbetter thing thatIdo,than Ihave everdone; itisafar,\\nfarbetter restthatIgotothan Ihave everknown.\\x94\\n330\\nLucie andherfather! Lucie with herarms stretched outtohim, and\\nwith thatoldlook ofearnestness soconcentrated andintensi\\x02ed, thatit\\nseemed asthough ithadbeen stamped upon herfaceexpressly togive\\nforce andpower toitinthisonepassage ofherlife.\\n\\x93What isthis?\\x94 cried Mr.Lorry ,breathless andconfused. \\x93What is\\nthematter? Lucie! Manette! What hashappened? What hasbrought\\nyouhere? What isit?\\x94\\nWiththelook \\x02xed upon him, inherpaleness andwildness, she\\npanted outinhisarms, imploringly ,\\x93Omydear friend! Myhusband!\\x94\\n\\x93Yourhusband, Lucie?\\x94\\n\\x93Charles.\\x94\\n\\x93What ofCharles?\\x94\\n\\x93Here.\\n\\x93Here, inParis?\\x94\\n\\x93Has been here some days\\x97three orfour\\x97Idon'tknow how\\nmany\\x97I can'tcollect mythoughts. Anerrand ofgenerosity brought\\nhimhere unknown tous;hewasstopped atthebarrier ,andsent to\\nprison.\\x94\\nTheoldman uttered anirrepressible cry.Almost atthesame mo-\\nment, thebegofthegreat gaterang again, andaloud noise offeetand\\nvoices came pouring intothecourtyard.\\n228\"}"
      ]
     },
     "execution_count": 6,
     "metadata": {},
     "output_type": "execute_result"
    }
   ],
   "source": [
    "inp = {'query':'who is the name of most important character in the story and what is its role?'}\n",
    "out = node_json.run(inp)\n",
    "out"
   ]
  },
  {
   "cell_type": "code",
   "execution_count": null,
   "metadata": {},
   "outputs": [],
   "source": [
    "# 1. type of documents\n",
    "# 2. split method of the documents\n",
    "# 3. type of the retriever\n",
    "# 4. \n",
    "\n",
    "# Other issues:\n",
    "# We are not using latest langchain features that provide parallel processing and other enhancements\n",
    "# so the library is not scalable and wont be used for important applications"
   ]
  }
 ],
 "metadata": {
  "kernelspec": {
   "display_name": "env",
   "language": "python",
   "name": "python3"
  },
  "language_info": {
   "codemirror_mode": {
    "name": "ipython",
    "version": 3
   },
   "file_extension": ".py",
   "mimetype": "text/x-python",
   "name": "python",
   "nbconvert_exporter": "python",
   "pygments_lexer": "ipython3",
   "version": "3.10.12"
  }
 },
 "nbformat": 4,
 "nbformat_minor": 2
}
